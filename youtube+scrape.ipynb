{
 "cells": [
  {
   "cell_type": "code",
   "execution_count": 47,
   "metadata": {},
   "outputs": [],
   "source": [
    "from selenium import webdriver"
   ]
  },
  {
   "cell_type": "code",
   "execution_count": 48,
   "metadata": {},
   "outputs": [],
   "source": [
    "import pandas as pd"
   ]
  },
  {
   "cell_type": "code",
   "execution_count": 49,
   "metadata": {},
   "outputs": [],
   "source": [
    "url = 'https://m.youtube.com/c/JohnWatsonRooney/search?query=web+scraping'"
   ]
  },
  {
   "cell_type": "code",
   "execution_count": 50,
   "metadata": {},
   "outputs": [],
   "source": [
    "driver = webdriver.Chrome(executable_path = \"/Users/tahsinturjo/Downloads/chromedriver\")"
   ]
  },
  {
   "cell_type": "code",
   "execution_count": 51,
   "metadata": {},
   "outputs": [],
   "source": [
    "driver.get(url)"
   ]
  },
  {
   "cell_type": "code",
   "execution_count": 40,
   "metadata": {},
   "outputs": [],
   "source": [
    "# style-scope ytd-video-renderer\n",
    "# //*[@id=\"video-title\"]\n",
    "# //*[@id=\"metadata-line\"]/span[1]\n",
    "# //*[@id=\"metadata-line\"]/span[2]\n",
    "//*[@id=\"app\"]/div[1]/ytm-browse/ytm-single-column-browse-results-renderer/div[2]/div[6]/ytm-section-list-renderer/lazy-list/ytm-item-section-renderer[2]/lazy-list/ytm-compact-video-renderer/div/a"
   ]
  },
  {
   "cell_type": "code",
   "execution_count": 37,
   "metadata": {},
   "outputs": [],
   "source": [
    "videos = driver.find_elements_by_class_name('style-scope ytd-video-renderer')"
   ]
  },
  {
   "cell_type": "code",
   "execution_count": 43,
   "metadata": {},
   "outputs": [],
   "source": [
    "video_list = []"
   ]
  },
  {
   "cell_type": "code",
   "execution_count": 44,
   "metadata": {},
   "outputs": [],
   "source": [
    "for video in videos:\n",
    "    title = video.find_element_by_xpath('.//*[@id=\"video-title\"]').text\n",
    "    views = video.find_element_by_xpath('.//*[@id=\"metadata-line\"]/span[1]').text\n",
    "    when = video.find_element_by_xpath('.//*[@id=\"metadata-line\"]/span[2]').text\n",
    "    link = video.find_element_by_xpath('.//*[@id=\"app\"]/div[1]/ytm-browse/ytm-single-column-browse-results-renderer/div[2]/div[6]/ytm-section-list-renderer/lazy-list/ytm-item-section-renderer[2]/lazy-list/ytm-compact-video-renderer/div/a').text['href']\n",
    "#     \n",
    "vid_item = {\n",
    "#         'title': title,\n",
    "#         'views': views,\n",
    "#         'Posted': when\n",
    "#     }\n",
    "#     video_list.append(vid_item)"
   ]
  },
  {
   "cell_type": "code",
   "execution_count": 46,
   "metadata": {},
   "outputs": [],
   "source": [
    "# df = pd.DataFrame(video_list)\n",
    "# df.to_excel('youtubescrape.xlsx', index=False)"
   ]
  },
  {
   "cell_type": "code",
   "execution_count": null,
   "metadata": {},
   "outputs": [],
   "source": []
  }
 ],
 "metadata": {
  "kernelspec": {
   "display_name": "Python 3",
   "language": "python",
   "name": "python3"
  },
  "language_info": {
   "codemirror_mode": {
    "name": "ipython",
    "version": 3
   },
   "file_extension": ".py",
   "mimetype": "text/x-python",
   "name": "python",
   "nbconvert_exporter": "python",
   "pygments_lexer": "ipython3",
   "version": "3.8.5"
  }
 },
 "nbformat": 4,
 "nbformat_minor": 4
}
